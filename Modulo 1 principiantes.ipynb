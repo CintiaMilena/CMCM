{
 "cells": [
  {
   "cell_type": "markdown",
   "metadata": {},
   "source": [
    "**MANUAL PARA IMPARTIR CURSO DE PYTHON DESDE CERO**  \n",
    "**NIVEL: PRINCIPIANTE**  \n",
    "**ELABORADO POR: Ing. Cintia Carmona, Ing.David Quiros**  \n",
    "\n",
    "**DECLARACIÓN DE VARIABLES**  \n",
    "\n",
    "Se estudia como en python se realiza la declaración de variables númericas, donde python asigna de forma automática el tipo de dato que debe tener la varibale según el valor que se le asigne"
   ]
  },
  {
   "cell_type": "code",
   "execution_count": 5,
   "metadata": {},
   "outputs": [],
   "source": [
    "#Se declara una variable, Python es sencitivo a la minusculas y mayusculas \n",
    "Numero = 5"
   ]
  },
  {
   "cell_type": "code",
   "execution_count": 6,
   "metadata": {},
   "outputs": [
    {
     "name": "stdout",
     "output_type": "stream",
     "text": [
      "5\n"
     ]
    }
   ],
   "source": [
    "#Para imprimer el valor de la variable lo podemos hacer por medio del uso del print o escribir directamente el nombre de la variable\n",
    "print(Numero)\n"
   ]
  },
  {
   "cell_type": "code",
   "execution_count": 7,
   "metadata": {},
   "outputs": [
    {
     "name": "stdout",
     "output_type": "stream",
     "text": [
      "5\n",
      "10\n",
      "15\n"
     ]
    }
   ],
   "source": [
    "#pero si no usamos el print python solo presenta por defecto el último valor \n",
    "Numero1 = 5\n",
    "Numero2 = 10\n",
    "Total = Numero1 + Numero2\n",
    "#En este caso Numero1 no se ve en pantalla\n",
    "Numero1\n",
    "Total\n",
    "#Ahora si ponemos un print se verá \n",
    "print(Numero1)\n",
    "print(Numero2)\n",
    "print(Total)"
   ]
  },
  {
   "cell_type": "code",
   "execution_count": 8,
   "metadata": {},
   "outputs": [
    {
     "data": {
      "text/plain": [
       "int"
      ]
     },
     "execution_count": 8,
     "metadata": {},
     "output_type": "execute_result"
    }
   ],
   "source": [
    "#para ver el tipo de dato de una variable usamos el type\n",
    "type(Total)"
   ]
  },
  {
   "cell_type": "code",
   "execution_count": 9,
   "metadata": {},
   "outputs": [
    {
     "name": "stdout",
     "output_type": "stream",
     "text": [
      "1.7\n",
      "<class 'float'>\n"
     ]
    },
    {
     "data": {
      "text/plain": [
       "float"
      ]
     },
     "execution_count": 9,
     "metadata": {},
     "output_type": "execute_result"
    }
   ],
   "source": [
    "#Variables decimales\n",
    "NumDec= 1.7\n",
    "print(NumDec)\n",
    "print(type(NumDec))\n",
    "type(NumDec)"
   ]
  },
  {
   "cell_type": "code",
   "execution_count": 10,
   "metadata": {},
   "outputs": [
    {
     "name": "stdout",
     "output_type": "stream",
     "text": [
      "3\n",
      "1.7\n",
      "4.7\n",
      "<class 'int'>\n",
      "<class 'float'>\n",
      "<class 'float'>\n"
     ]
    }
   ],
   "source": [
    "#Python se encarga de asignar el tipo de dato que se necesario, ya el usuario no se debe preocupar por este tema y si una variables\n",
    "#puede cambiar de tipo durante un proceso\n",
    "num1= 3\n",
    "num2=1.7\n",
    "suma=num1+num2\n",
    "print(num1)\n",
    "print(num2)\n",
    "print(suma)\n",
    "print(type(num1))\n",
    "print(type(num2))\n",
    "print(type(suma))"
   ]
  },
  {
   "cell_type": "markdown",
   "metadata": {},
   "source": [
    "**CONVERSIONES DE TIPOS DE DATOS**\n",
    "\n",
    "Para convertir un dato a otro tipo\n"
   ]
  },
  {
   "cell_type": "code",
   "execution_count": 11,
   "metadata": {},
   "outputs": [
    {
     "name": "stdout",
     "output_type": "stream",
     "text": [
      "5\n",
      "5\n",
      "<class 'int'>\n",
      "<class 'str'>\n",
      "5.1\n",
      "5.1\n",
      "<class 'str'>\n",
      "<class 'float'>\n",
      "<class 'str'>\n"
     ]
    }
   ],
   "source": [
    "#Se utiliza la función str\n",
    "Num1 = 5\n",
    "Cadena = str(Num1)\n",
    "print(Num1)\n",
    "print(Cadena)\n",
    "print(type(Num1))\n",
    "print(type(Cadena))\n",
    "#Igual se hace de forma inversa con número decimales\n",
    "cadena = '5.1'\n",
    "num= float(cadena)\n",
    "print(cadena)\n",
    "print(num)\n",
    "print(type(cadena))\n",
    "print(type(num))\n",
    "print(type(str(num)))\n"
   ]
  },
  {
   "cell_type": "markdown",
   "metadata": {},
   "source": [
    "**PRACTICA 1**  \n",
    "\n",
    "1.Crear una variable numero1 que tenga el valor de 5  \n",
    "2.Indicar el tipo de dato de la variable numero1  \n",
    "3.Crear una variable numero2 que tenga el valor de 6.5  \n",
    "4.Indicar el tipo de dato de la variable numero2  \n",
    "5.Crear una variable numero3 que tenga el valor de 7  \n",
    "6.Indicar el tipo de dato de la variable numero3  \n",
    "7.Crear otra variable suma que sume los 3 valores anteriores  \n",
    "8.Mostrar el resultado  \n",
    "9.Indicar el tipo de dato de la variable suma  "
   ]
  },
  {
   "cell_type": "code",
   "execution_count": 14,
   "metadata": {},
   "outputs": [
    {
     "name": "stdout",
     "output_type": "stream",
     "text": [
      "<class 'int'>\n",
      "<class 'float'>\n",
      "<class 'int'>\n",
      "18.5\n",
      "<class 'float'>\n"
     ]
    }
   ],
   "source": [
    "#SOLUCIÓN\n",
    "numero1 = 5\n",
    "print(type(numero1))\n",
    "numero2 = 6.5\n",
    "print(type(numero2))\n",
    "numero3 = 7\n",
    "print(type(numero3))\n",
    "suma = numero1 + numero2 + numero3\n",
    "print(suma)\n",
    "print(type(suma))"
   ]
  },
  {
   "cell_type": "markdown",
   "metadata": {},
   "source": [
    "**MANEJO DE STRING (CADENAS DE CARACTERES)**  \n",
    "\n",
    "Pueden ir entre comillas dobles o simples.\n",
    "Cada letra tiene una posición dentro de la cadena y se puede acceder a cada valor"
   ]
  },
  {
   "cell_type": "code",
   "execution_count": 15,
   "metadata": {},
   "outputs": [
    {
     "data": {
      "text/plain": [
       "'hola Mundo'"
      ]
     },
     "execution_count": 15,
     "metadata": {},
     "output_type": "execute_result"
    }
   ],
   "source": [
    "cadena = 'hola ' + \"Mundo\"\n",
    "cadena"
   ]
  },
  {
   "cell_type": "code",
   "execution_count": 16,
   "metadata": {},
   "outputs": [
    {
     "name": "stdout",
     "output_type": "stream",
     "text": [
      "hola \n",
      "hola \n"
     ]
    }
   ],
   "source": [
    "#  H    o   l   a       m   u   n   d   o\n",
    "#  0    1   2   3   4   5   6   7   8   9\n",
    "#-10 -9  -8  -7  -6  -5  -4  -3  -2   -1\n",
    "print(cadena[0] + cadena[1] + cadena[2] + cadena[3] +  cadena[4])\n",
    "#También se puede de forma inversa\n",
    "print(cadena[-10] + cadena[-9] + cadena[-8] + cadena[-7] +cadena[-6])"
   ]
  },
  {
   "cell_type": "code",
   "execution_count": 19,
   "metadata": {},
   "outputs": [
    {
     "name": "stdout",
     "output_type": "stream",
     "text": [
      "la Mu\n",
      "la Mundo\n"
     ]
    }
   ],
   "source": [
    "#Tomar solo una parte de la cadena se hace con los :\n",
    "print(cadena[2:7]) #no incluye la posición 7 es uno antes\n",
    "#indicar un inicio pero sin final\n",
    "print(cadena[2:]) #de la posición 2 hasta el resto de la cadena"
   ]
  },
  {
   "cell_type": "markdown",
   "metadata": {},
   "source": [
    "**LOS VALORES DE LA CADENAS NO SE PUEDEN MODIFICAR**  \n",
    "No puedo hacer esto:  \n",
    "**cadena[2] = 'p'**  "
   ]
  },
  {
   "cell_type": "code",
   "execution_count": 22,
   "metadata": {},
   "outputs": [
    {
     "name": "stdout",
     "output_type": "stream",
     "text": [
      "HOLA MUNDO\n",
      "<class 'str'>\n"
     ]
    }
   ],
   "source": [
    "#concatenar cadenas se debe hacer con \"+\"  \n",
    "cadena1 = \"HOLA\"\n",
    "cadena2 = \" \"\n",
    "cadena3 = \"MUNDO\"\n",
    "cadena = cadena1 + cadena2 + cadena3\n",
    "print(cadena)\n",
    "print(type(cadena))"
   ]
  },
  {
   "cell_type": "markdown",
   "metadata": {},
   "source": [
    "**FUNCIONES DE CADENAS**  \n",
    "len  = Muestra el tamaño de una cadena  \n",
    "upper= convierte en mayuscula    \n",
    "lower = pasa todo minuscula  \n",
    "split =divide la cadena con las palabras que la conforman, lo hace por default por espacios pero también se puede cambiar\n",
    "       el caracter que las divide  \n",
    "**ES IMPORTANTE SACAR TODAS LAS FUNCIONES QUE TIENEN LAS CADENAS Y ESTUDIAR LAS MAS IMPORTANTES**  \n"
   ]
  },
  {
   "cell_type": "code",
   "execution_count": 30,
   "metadata": {},
   "outputs": [
    {
     "name": "stdout",
     "output_type": "stream",
     "text": [
      "Hola mundo\n",
      "10\n",
      "HOLA MUNDO\n",
      "HOLA MUNDO\n",
      "hola mundo\n",
      "['HOLA', 'MUNDO']\n",
      "uva,manzana,pera,melon\n",
      "['uva', 'manzana', 'pera', 'melon']\n"
     ]
    }
   ],
   "source": [
    "cadena = 'Hola mundo'\n",
    "print(cadena)\n",
    "print(len(cadena))\n",
    "#solo muestra la cadena en mayuscula\n",
    "print(cadena.upper())\n",
    "#para convertir la cadena en mayuscula se debe\n",
    "cadena = cadena.upper()\n",
    "print(cadena)\n",
    "#para pasarlo a minuscula\n",
    "print(cadena.lower())\n",
    "#para separar la cadena segun sus palabras con split por el default el espacio\n",
    "print(cadena.split())\n",
    "#para separar la cadena segun sus palabras con split pero cambiando el default\n",
    "cadena1 = \"uva,manzana,pera,melon\"\n",
    "print(cadena1)\n",
    "print(cadena1.split(','))#cambia el caracter que las divide\n"
   ]
  },
  {
   "cell_type": "markdown",
   "metadata": {},
   "source": [
    "**Nota importante**  \n",
    "**Para ver todas las funciones de la cadenas se debe poner el nombre de la variable luego punto y dar tabulador, con esto pareceran todas las funciones disponibles**  \n"
   ]
  },
  {
   "cell_type": "markdown",
   "metadata": {},
   "source": [
    "**IMPRIMIR VARIABLES DE CADENA DE TEXTO**"
   ]
  },
  {
   "cell_type": "code",
   "execution_count": 32,
   "metadata": {},
   "outputs": [
    {
     "name": "stdout",
     "output_type": "stream",
     "text": [
      "Buenos días Antonio\n"
     ]
    }
   ],
   "source": [
    "# Concatenar una cadena de caracteres con una variable\n",
    "#existe tres formas con el +, .format y f-strings(es la forma mas facil)\n",
    "nombre = 'Antonio'\n",
    "print('Buenos días ' + nombre)\n"
   ]
  },
  {
   "cell_type": "code",
   "execution_count": 45,
   "metadata": {},
   "outputs": [
    {
     "name": "stdout",
     "output_type": "stream",
     "text": [
      "Buenos días Antonio feliz cumpleaños Numero: 18\n"
     ]
    }
   ],
   "source": [
    "#utilizando el format\n",
    "nombre = 'Antonio'\n",
    "edad = 18\n",
    "print('Buenos días {} feliz cumpleaños Numero: {}'.format(nombre,edad))"
   ]
  },
  {
   "cell_type": "code",
   "execution_count": 50,
   "metadata": {},
   "outputs": [
    {
     "name": "stdout",
     "output_type": "stream",
     "text": [
      "Buenos días Antonio, feliz cumpleaños Numero: 18\n"
     ]
    }
   ],
   "source": [
    "# Utilización del f-strings para imprimir\n",
    "nombre = \"Antonio\"\n",
    "edad = 18\n",
    "print(f\"Buenos días {nombre}, feliz cumpleaños Numero: {edad}\")"
   ]
  },
  {
   "cell_type": "markdown",
   "metadata": {},
   "source": [
    "**TRABAJANDO CON NUMEROS**"
   ]
  },
  {
   "cell_type": "code",
   "execution_count": 51,
   "metadata": {},
   "outputs": [
    {
     "data": {
      "text/plain": [
       "3.3333333333333335"
      ]
     },
     "execution_count": 51,
     "metadata": {},
     "output_type": "execute_result"
    }
   ],
   "source": [
    "#Eliminar cantidad de decimales\n",
    "resultado = 10/3\n",
    "resultado"
   ]
  },
  {
   "cell_type": "code",
   "execution_count": 40,
   "metadata": {},
   "outputs": [
    {
     "name": "stdout",
     "output_type": "stream",
     "text": [
      "El resultado es 3.3333333333333335\n"
     ]
    }
   ],
   "source": [
    "#para imprimir una variable tipo float en el print sin cambiarle el tipo\n",
    "print(\"El resultado es {r}\".format(r=resultado) )"
   ]
  },
  {
   "cell_type": "code",
   "execution_count": 42,
   "metadata": {},
   "outputs": [
    {
     "name": "stdout",
     "output_type": "stream",
     "text": [
      "El resultado es 3.333\n"
     ]
    }
   ],
   "source": [
    "#para imprimir una variable tipo float en el print sin cambiarle el tipo y cortando la cantidad de decimales\n",
    "# r lo sustituye por lo que tiene resultado\n",
    "#:1 cantidad de números enteros a mostrar\n",
    "#.3f cantidad de decimales pueden ser los que se necesiten    \n",
    "print(\"El resultado es {r:1.3f}\".format(r=resultado))"
   ]
  },
  {
   "cell_type": "markdown",
   "metadata": {},
   "source": [
    "**ENTRADA POR TECLADO**  \n",
    "\n",
    "Ingreso de texto del teclado: para esto se utiliza la función **#input**"
   ]
  },
  {
   "cell_type": "code",
   "execution_count": 53,
   "metadata": {},
   "outputs": [
    {
     "name": "stdout",
     "output_type": "stream",
     "text": [
      "Ingrese su nombre\n",
      "Arlette\n",
      "Hola Arlette\n"
     ]
    }
   ],
   "source": [
    "print(\"Ingrese su nombre\")\n",
    "entrada = input()\n",
    "print(\"Hola \" + entrada)"
   ]
  },
  {
   "cell_type": "markdown",
   "metadata": {},
   "source": [
    "**PRACTICA 2**  \n",
    "\n",
    "Crear una variable \"cadena\" que contiene el texto \"Esto es un texto de ejemplo\"  \n",
    "Segun la posición de cada letra en la cadena, calcular que valores(x,y) hay que poner para seleccionar solo la palabra \n",
    "\"texto\"      \n",
    "cadena[x:y] = \"texto\" \n"
   ]
  },
  {
   "cell_type": "code",
   "execution_count": 54,
   "metadata": {},
   "outputs": [
    {
     "name": "stdout",
     "output_type": "stream",
     "text": [
      "texto\n"
     ]
    }
   ],
   "source": [
    "cadena = \"Esto es un texto de ejemplo\"\n",
    "print(cadena[11:16])"
   ]
  },
  {
   "cell_type": "markdown",
   "metadata": {},
   "source": [
    "**PRACTICA 3**  \n",
    "\n",
    "Crear una variable \"cadena\" que contiene el texto \"Esto es un texto de ejemplo\"    \n",
    "Crear una variable \"longitud\" que contiene la longitud (número de caracteres) de la variable cadena  \n",
    "Crear una variable \"mayuscula\" que contiene la variable cadena en mayuscula  \n",
    "Crear una variable \"resultado\" que contiene la variable \"mayuscula\" y la variable \"resultado\" convertida a string  \n"
   ]
  },
  {
   "cell_type": "code",
   "execution_count": 39,
   "metadata": {},
   "outputs": [
    {
     "name": "stdout",
     "output_type": "stream",
     "text": [
      "27\n",
      "ESTO ES UN TEXTO DE EJEMPLO\n",
      "ESTO ES UN TEXTO DE EJEMPLO Esta cadena tiene una longitud de: 27\n"
     ]
    }
   ],
   "source": [
    "cadena =  \"Esto es un texto de ejemplo\"\n",
    "longitud = len(cadena)\n",
    "print(longitud)\n",
    "mayuscula = cadena.upper()\n",
    "print(mayuscula)\n",
    "resultado = mayuscula + \" Esta cadena tiene una longitud de: \"+ str(longitud)\n",
    "print(resultado)"
   ]
  },
  {
   "cell_type": "markdown",
   "metadata": {},
   "source": [
    "**PRACTICA 3**\n",
    "\n",
    "Crear una variable \"numero1\" que contiene el valor de 5  \n",
    "Crear una variable \"numero1\" que contiene el valor de 8  \n",
    "Crear una variable \"nsuma\" que contiene la suma de los dos números anteriores  \n",
    "Imprimir el resultado utilizando la función print  "
   ]
  },
  {
   "cell_type": "code",
   "execution_count": 55,
   "metadata": {},
   "outputs": [
    {
     "name": "stdout",
     "output_type": "stream",
     "text": [
      "El resultado de sumar 5 mas 8 es 13\n",
      "El resultado de sumar 5 mas 8 es 13\n"
     ]
    }
   ],
   "source": [
    "numero1 = 5\n",
    "numero2 = 8\n",
    "suma = numero1+ numero2\n",
    "#con la función f-strings\n",
    "print(f\"El resultado de sumar {numero1} mas {numero2} es {suma}\")\n",
    "#con format}\n",
    "print(\"El resultado de sumar {} mas {} es {}\".format(numero1,numero2,suma))"
   ]
  },
  {
   "cell_type": "markdown",
   "metadata": {},
   "source": [
    "**OPERADORES ARITMETICOS**  \n",
    "\n",
    "Los operadores aritmeticos que utiliza python básicos son: +,-,*,/  \n",
    "operador del resto en la divisón es %  \n",
    "cociente en la división es  //  \n",
    "Operador de exponente es ***"
   ]
  },
  {
   "cell_type": "markdown",
   "metadata": {},
   "source": [
    "**OPERADORES DE ASIGNACIÓN**  \n",
    "\n",
    "El operador para asignar un valor a una variables =  \n",
    "Otras expresiones +=,-=,*=,/=,**= \n",
    "\n",
    "Como se utilizan"
   ]
  },
  {
   "cell_type": "code",
   "execution_count": 44,
   "metadata": {},
   "outputs": [
    {
     "data": {
      "text/plain": [
       "8"
      ]
     },
     "execution_count": 44,
     "metadata": {},
     "output_type": "execute_result"
    }
   ],
   "source": [
    "#suma\n",
    "numero = 4\n",
    "numero = numero + 4\n",
    "numero"
   ]
  },
  {
   "cell_type": "code",
   "execution_count": 45,
   "metadata": {},
   "outputs": [
    {
     "data": {
      "text/plain": [
       "8"
      ]
     },
     "execution_count": 45,
     "metadata": {},
     "output_type": "execute_result"
    }
   ],
   "source": [
    "#suma\n",
    "numero = 4\n",
    "numero +=4\n",
    "numero"
   ]
  },
  {
   "cell_type": "markdown",
   "metadata": {},
   "source": [
    "**OPERADORES DE COMPARACIÓN**  \n",
    "\n",
    "Se utilizan para realizar comparaciones entre expresiones por lo que devuelve un true o un false  \n",
    "\n",
    "Los operadores son:  \n",
    "== igual que  \n",
    "!= diferente de  \n",
    "\">\" mayor que  \n",
    "\"<\" menos que  \n",
    "\">=\" mayor o igual que  \n",
    "\"<=\" menor igual que   \n",
    "\n",
    "**EJEMPLOS**  "
   ]
  },
  {
   "cell_type": "code",
   "execution_count": 46,
   "metadata": {},
   "outputs": [
    {
     "data": {
      "text/plain": [
       "False"
      ]
     },
     "execution_count": 46,
     "metadata": {},
     "output_type": "execute_result"
    }
   ],
   "source": [
    "num1 = 5\n",
    "num2= 2\n",
    "num1 == num2 "
   ]
  },
  {
   "cell_type": "code",
   "execution_count": 47,
   "metadata": {},
   "outputs": [
    {
     "data": {
      "text/plain": [
       "True"
      ]
     },
     "execution_count": 47,
     "metadata": {},
     "output_type": "execute_result"
    }
   ],
   "source": [
    "cadena1 = 'Hola'\n",
    "cadena2 = 'Hola'\n",
    "cadena1==cadena2"
   ]
  },
  {
   "cell_type": "markdown",
   "metadata": {},
   "source": [
    "**OPERADORES LÓGICOS**  \n",
    "\n",
    "Sirven para evaluar varias condiciones, estos son:  \n",
    "**and** Inclusión  \n",
    "**or**  Exclusión  \n",
    "**not** Negación  \n",
    "\n",
    "**EJEMPLOS**"
   ]
  },
  {
   "cell_type": "code",
   "execution_count": 48,
   "metadata": {},
   "outputs": [],
   "source": [
    "n1 = 10\n",
    "n2 = 5\n",
    "n3 =7\n",
    "n4 =8"
   ]
  },
  {
   "cell_type": "code",
   "execution_count": 49,
   "metadata": {},
   "outputs": [
    {
     "data": {
      "text/plain": [
       "True"
      ]
     },
     "execution_count": 49,
     "metadata": {},
     "output_type": "execute_result"
    }
   ],
   "source": [
    "n1 > n2"
   ]
  },
  {
   "cell_type": "code",
   "execution_count": 50,
   "metadata": {},
   "outputs": [
    {
     "data": {
      "text/plain": [
       "True"
      ]
     },
     "execution_count": 50,
     "metadata": {},
     "output_type": "execute_result"
    }
   ],
   "source": [
    "n3 < n4"
   ]
  },
  {
   "cell_type": "code",
   "execution_count": 52,
   "metadata": {},
   "outputs": [
    {
     "data": {
      "text/plain": [
       "True"
      ]
     },
     "execution_count": 52,
     "metadata": {},
     "output_type": "execute_result"
    }
   ],
   "source": [
    "(n1>n2) and (n3<n4)"
   ]
  },
  {
   "cell_type": "markdown",
   "metadata": {},
   "source": [
    "**OPERADORES DE IDENTIDAD**  \n",
    "\n",
    "Buscan identificar si dos objetos son iguales o si son diferentes:  \n",
    "\n",
    "is verifica si dos objetos son iguales  \n",
    "is not  verifica si dos objetos son diferentes  \n",
    "\n",
    "**EJEMPLO**  "
   ]
  },
  {
   "cell_type": "code",
   "execution_count": 68,
   "metadata": {},
   "outputs": [],
   "source": [
    "frutas1 = [\"manzana\",\"pera\"]\n",
    "frutas2 = [\"manzana\",\"pera\"]\n",
    "frutas3 = frutas1"
   ]
  },
  {
   "cell_type": "code",
   "execution_count": 69,
   "metadata": {},
   "outputs": [
    {
     "data": {
      "text/plain": [
       "True"
      ]
     },
     "execution_count": 69,
     "metadata": {},
     "output_type": "execute_result"
    }
   ],
   "source": [
    "#valida si dos objetos son iguales\n",
    "frutas3 is frutas1"
   ]
  },
  {
   "cell_type": "code",
   "execution_count": 70,
   "metadata": {},
   "outputs": [
    {
     "data": {
      "text/plain": [
       "['manzana', 'pera', 'naranja']"
      ]
     },
     "execution_count": 70,
     "metadata": {},
     "output_type": "execute_result"
    }
   ],
   "source": [
    "#se añade un elemento\n",
    "frutas3.append(\"naranja\")\n",
    "frutas3\n"
   ]
  },
  {
   "cell_type": "code",
   "execution_count": 72,
   "metadata": {},
   "outputs": [
    {
     "name": "stdout",
     "output_type": "stream",
     "text": [
      "['manzana', 'pera', 'naranja']\n",
      "['manzana', 'pera', 'naranja']\n"
     ]
    }
   ],
   "source": [
    "#is not\n",
    "frutas1 = frutas3\n",
    "print(frutas1)\n",
    "print(frutas3)"
   ]
  },
  {
   "cell_type": "code",
   "execution_count": 73,
   "metadata": {},
   "outputs": [
    {
     "data": {
      "text/plain": [
       "True"
      ]
     },
     "execution_count": 73,
     "metadata": {},
     "output_type": "execute_result"
    }
   ],
   "source": [
    "frutas3 is frutas1"
   ]
  },
  {
   "cell_type": "code",
   "execution_count": 74,
   "metadata": {},
   "outputs": [
    {
     "data": {
      "text/plain": [
       "False"
      ]
     },
     "execution_count": 74,
     "metadata": {},
     "output_type": "execute_result"
    }
   ],
   "source": [
    "frutas3 is frutas2"
   ]
  },
  {
   "cell_type": "markdown",
   "metadata": {},
   "source": [
    "**OPERADORES DE PERTENENCIA**  \n",
    "\n",
    "Verifican si un objeto esta dentro de una lista de objetos  \n",
    "**in**  existe  \n",
    "**not in** no existe\n",
    "\n",
    "**EJEMPLOS**  "
   ]
  },
  {
   "cell_type": "code",
   "execution_count": 77,
   "metadata": {},
   "outputs": [],
   "source": [
    "frutas1 = [\"manzana\",\"pera\",\"uva\"]\n",
    "frutas2 = \"pera\"\n",
    "frutas3 = \"melon\""
   ]
  },
  {
   "cell_type": "code",
   "execution_count": 78,
   "metadata": {},
   "outputs": [
    {
     "data": {
      "text/plain": [
       "True"
      ]
     },
     "execution_count": 78,
     "metadata": {},
     "output_type": "execute_result"
    }
   ],
   "source": [
    "frutas2 in frutas1"
   ]
  },
  {
   "cell_type": "code",
   "execution_count": 79,
   "metadata": {},
   "outputs": [
    {
     "data": {
      "text/plain": [
       "False"
      ]
     },
     "execution_count": 79,
     "metadata": {},
     "output_type": "execute_result"
    }
   ],
   "source": [
    "frutas3 in frutas1"
   ]
  },
  {
   "cell_type": "code",
   "execution_count": 80,
   "metadata": {},
   "outputs": [
    {
     "data": {
      "text/plain": [
       "True"
      ]
     },
     "execution_count": 80,
     "metadata": {},
     "output_type": "execute_result"
    }
   ],
   "source": [
    "frutas3 not in frutas1"
   ]
  },
  {
   "cell_type": "markdown",
   "metadata": {},
   "source": [
    "**PRACTICA 4**\n",
    "\n",
    "Crear una variable nota1 que tenga un valor de 6  \n",
    "Crear una variable nota2 que tenga un valor de 4  \n",
    "Crear una variable nota3 que tenga un valor de 7  \n",
    "Crear una variable notamedia que tenga un valor medios de las 3 notas anteriores  \n",
    "Crear una variable notafinal que tenga el valor \"aprobado\" mayor o igual a 5  \n"
   ]
  },
  {
   "cell_type": "code",
   "execution_count": 87,
   "metadata": {},
   "outputs": [
    {
     "name": "stdout",
     "output_type": "stream",
     "text": [
      "Su nota final es 5.67\n",
      "Aprobado\n"
     ]
    }
   ],
   "source": [
    "nota1 = 6\n",
    "nota2 = 4\n",
    "nota3 = 7\n",
    "nota_media = (nota1 + nota2 + nota3) / 3\n",
    "nota_final = nota_media\n",
    "print(\"Su nota final es {r:1.2f}\".format(r=nota_final))\n",
    "if (nota_final >=5):\n",
    "  print(\"Aprobado\")\n",
    "else:\n",
    "  print(\"reporbado\")    "
   ]
  },
  {
   "cell_type": "markdown",
   "metadata": {},
   "source": [
    "**LISTAS**  \n",
    "\n",
    "Una lista es una colección de elementos que esta ordenada y que se puede modificar, se definen mediante [] y separados por ,   \n",
    "Se utilizan para modelar datos compuestos pero cuya cantidad y valor varían a lo largo del tiempo. Son secuencias mutables y vienen dotadas de una variedad de operaciones muy útiles.\n",
    "\n",
    "**EJEMPLOS**"
   ]
  },
  {
   "cell_type": "code",
   "execution_count": 79,
   "metadata": {},
   "outputs": [
    {
     "data": {
      "text/plain": [
       "['rojo', 'amarillo', 'verde']"
      ]
     },
     "execution_count": 79,
     "metadata": {},
     "output_type": "execute_result"
    }
   ],
   "source": [
    "lista_caracteres = ['rojo','amarillo','verde']\n",
    "lista_caracteres"
   ]
  },
  {
   "cell_type": "code",
   "execution_count": 131,
   "metadata": {},
   "outputs": [
    {
     "data": {
      "text/plain": [
       "[1, 3, 2, 5]"
      ]
     },
     "execution_count": 131,
     "metadata": {},
     "output_type": "execute_result"
    }
   ],
   "source": [
    "lista_numerica = [1,3,2,5]\n",
    "lista_numerica"
   ]
  },
  {
   "cell_type": "code",
   "execution_count": 53,
   "metadata": {},
   "outputs": [
    {
     "data": {
      "text/plain": [
       "[1, 'Promedio', 92.3]"
      ]
     },
     "execution_count": 53,
     "metadata": {},
     "output_type": "execute_result"
    }
   ],
   "source": [
    "lista_variada = [1,'Promedio',92.3]\n",
    "lista_variada"
   ]
  },
  {
   "cell_type": "code",
   "execution_count": 57,
   "metadata": {},
   "outputs": [
    {
     "data": {
      "text/plain": [
       "int"
      ]
     },
     "execution_count": 57,
     "metadata": {},
     "output_type": "execute_result"
    }
   ],
   "source": [
    "type(lista_variada[0])\n"
   ]
  },
  {
   "cell_type": "code",
   "execution_count": 58,
   "metadata": {},
   "outputs": [
    {
     "data": {
      "text/plain": [
       "str"
      ]
     },
     "execution_count": 58,
     "metadata": {},
     "output_type": "execute_result"
    }
   ],
   "source": [
    "type(lista_variada[1])\n"
   ]
  },
  {
   "cell_type": "code",
   "execution_count": 61,
   "metadata": {},
   "outputs": [
    {
     "data": {
      "text/plain": [
       "float"
      ]
     },
     "execution_count": 61,
     "metadata": {},
     "output_type": "execute_result"
    }
   ],
   "source": [
    "type(lista_variada[2])"
   ]
  },
  {
   "cell_type": "code",
   "execution_count": 133,
   "metadata": {},
   "outputs": [
    {
     "name": "stdout",
     "output_type": "stream",
     "text": [
      "[1, 3, 2, 5, 4]\n"
     ]
    }
   ],
   "source": [
    "#agregar elementos a una lista con append\n",
    "lista_numerica.append(4)\n",
    "print(lista_numerica)"
   ]
  },
  {
   "cell_type": "code",
   "execution_count": 134,
   "metadata": {},
   "outputs": [
    {
     "data": {
      "text/plain": [
       "[1, 2, 3, 4, 5]"
      ]
     },
     "execution_count": 134,
     "metadata": {},
     "output_type": "execute_result"
    }
   ],
   "source": [
    "# Ordenando el contenido de una lista\n",
    "ordenada = sorted(lista_numerica)\n",
    "ordenada"
   ]
  },
  {
   "cell_type": "code",
   "execution_count": 80,
   "metadata": {},
   "outputs": [
    {
     "name": "stdout",
     "output_type": "stream",
     "text": [
      "['azul', 'amarillo', 'verde']\n"
     ]
    }
   ],
   "source": [
    "#Modificar un elemento de la lista\n",
    "lista_caracteres[0]= 'azul'\n",
    "print(lista_caracteres)"
   ]
  },
  {
   "cell_type": "code",
   "execution_count": 71,
   "metadata": {},
   "outputs": [
    {
     "data": {
      "text/plain": [
       "3"
      ]
     },
     "execution_count": 71,
     "metadata": {},
     "output_type": "execute_result"
    }
   ],
   "source": [
    "#Saber el número de elementos de una lista con el uso de la función len\n",
    "len(lista_caracteres)"
   ]
  },
  {
   "cell_type": "code",
   "execution_count": 81,
   "metadata": {},
   "outputs": [
    {
     "name": "stdout",
     "output_type": "stream",
     "text": [
      "['azul', 'amarillo', 'verde', 'naranja']\n"
     ]
    }
   ],
   "source": [
    "#agregar elementos a una lista con append\n",
    "lista_caracteres.append('naranja')\n",
    "print(lista_caracteres)"
   ]
  },
  {
   "cell_type": "code",
   "execution_count": 82,
   "metadata": {},
   "outputs": [
    {
     "name": "stdout",
     "output_type": "stream",
     "text": [
      "['azul', 'amarillo', 'naranja']\n"
     ]
    }
   ],
   "source": [
    "#Eliminar valores de la lista con remove\n",
    "lista_caracteres.remove('verde')\n",
    "print(lista_caracteres)"
   ]
  },
  {
   "cell_type": "code",
   "execution_count": 83,
   "metadata": {},
   "outputs": [
    {
     "name": "stdout",
     "output_type": "stream",
     "text": [
      "azul\n",
      "amarillo\n",
      "naranja\n"
     ]
    }
   ],
   "source": [
    "#si se quiere recorer una lista con el bucle for\n",
    "for valor in lista_caracteres:\n",
    "  print(valor)"
   ]
  },
  {
   "cell_type": "code",
   "execution_count": 84,
   "metadata": {},
   "outputs": [
    {
     "name": "stdout",
     "output_type": "stream",
     "text": [
      "[]\n"
     ]
    }
   ],
   "source": [
    "#si queremos limpiar la lista completa lo hacemos con clear\n",
    "lista_caracteres.clear()\n",
    "print(lista_caracteres)"
   ]
  },
  {
   "cell_type": "markdown",
   "metadata": {},
   "source": [
    "**TUPLAS**  \n",
    "\n",
    "Es una colección de elementos ordenada que no se puede modificar, se definen mediante ()"
   ]
  },
  {
   "cell_type": "code",
   "execution_count": 19,
   "metadata": {},
   "outputs": [],
   "source": [
    "a=205970687"
   ]
  },
  {
   "cell_type": "code",
   "execution_count": 20,
   "metadata": {},
   "outputs": [],
   "source": [
    "b=\"Cintia\""
   ]
  },
  {
   "cell_type": "code",
   "execution_count": 21,
   "metadata": {},
   "outputs": [],
   "source": [
    "c=\"Carmona\""
   ]
  },
  {
   "cell_type": "code",
   "execution_count": 22,
   "metadata": {},
   "outputs": [],
   "source": [
    "d=(3, \"Julio\", 1984)"
   ]
  },
  {
   "cell_type": "code",
   "execution_count": 23,
   "metadata": {},
   "outputs": [],
   "source": [
    "tupla = a,b,c,d"
   ]
  },
  {
   "cell_type": "code",
   "execution_count": 24,
   "metadata": {},
   "outputs": [
    {
     "data": {
      "text/plain": [
       "4"
      ]
     },
     "execution_count": 24,
     "metadata": {},
     "output_type": "execute_result"
    }
   ],
   "source": [
    "len(tupla)"
   ]
  },
  {
   "cell_type": "code",
   "execution_count": 26,
   "metadata": {},
   "outputs": [
    {
     "data": {
      "text/plain": [
       "(205970687, 'Cintia', 'Carmona', (3, 'Julio', 1984))"
      ]
     },
     "execution_count": 26,
     "metadata": {},
     "output_type": "execute_result"
    }
   ],
   "source": [
    "tupla"
   ]
  },
  {
   "cell_type": "code",
   "execution_count": 27,
   "metadata": {},
   "outputs": [
    {
     "data": {
      "text/plain": [
       "(205970687, 'Cintia', 'Carmona', (3, 'Julio', 1984))"
      ]
     },
     "execution_count": 27,
     "metadata": {},
     "output_type": "execute_result"
    }
   ],
   "source": [
    "tupla_info=(205970687, \"Cintia\", \"Carmona\", (3, \"Julio\", 1984))\n",
    "tupla_info"
   ]
  },
  {
   "cell_type": "code",
   "execution_count": 34,
   "metadata": {},
   "outputs": [
    {
     "data": {
      "text/plain": [
       "True"
      ]
     },
     "execution_count": 34,
     "metadata": {},
     "output_type": "execute_result"
    }
   ],
   "source": [
    "tupla == tupla_info"
   ]
  },
  {
   "cell_type": "code",
   "execution_count": 35,
   "metadata": {},
   "outputs": [
    {
     "data": {
      "text/plain": [
       "205970687"
      ]
     },
     "execution_count": 35,
     "metadata": {},
     "output_type": "execute_result"
    }
   ],
   "source": [
    "tupla_info[0]"
   ]
  },
  {
   "cell_type": "code",
   "execution_count": 36,
   "metadata": {},
   "outputs": [
    {
     "data": {
      "text/plain": [
       "'Cintia'"
      ]
     },
     "execution_count": 36,
     "metadata": {},
     "output_type": "execute_result"
    }
   ],
   "source": [
    "tupla_info[1]"
   ]
  },
  {
   "cell_type": "code",
   "execution_count": 38,
   "metadata": {},
   "outputs": [
    {
     "data": {
      "text/plain": [
       "(3, 'Julio', 1984)"
      ]
     },
     "execution_count": 38,
     "metadata": {},
     "output_type": "execute_result"
    }
   ],
   "source": [
    "tupla_info[3]"
   ]
  },
  {
   "cell_type": "code",
   "execution_count": 39,
   "metadata": {},
   "outputs": [
    {
     "data": {
      "text/plain": [
       "int"
      ]
     },
     "execution_count": 39,
     "metadata": {},
     "output_type": "execute_result"
    }
   ],
   "source": [
    "type(tupla_info[0])"
   ]
  },
  {
   "cell_type": "code",
   "execution_count": 40,
   "metadata": {},
   "outputs": [
    {
     "data": {
      "text/plain": [
       "str"
      ]
     },
     "execution_count": 40,
     "metadata": {},
     "output_type": "execute_result"
    }
   ],
   "source": [
    "type(tupla_info[1])"
   ]
  },
  {
   "cell_type": "code",
   "execution_count": 41,
   "metadata": {},
   "outputs": [
    {
     "data": {
      "text/plain": [
       "tuple"
      ]
     },
     "execution_count": 41,
     "metadata": {},
     "output_type": "execute_result"
    }
   ],
   "source": [
    "type(tupla_info[3])"
   ]
  },
  {
   "cell_type": "code",
   "execution_count": 43,
   "metadata": {},
   "outputs": [
    {
     "data": {
      "text/plain": [
       "4"
      ]
     },
     "execution_count": 43,
     "metadata": {},
     "output_type": "execute_result"
    }
   ],
   "source": [
    "len(tupla_info)"
   ]
  },
  {
   "cell_type": "code",
   "execution_count": 44,
   "metadata": {},
   "outputs": [
    {
     "data": {
      "text/plain": [
       "3"
      ]
     },
     "execution_count": 44,
     "metadata": {},
     "output_type": "execute_result"
    }
   ],
   "source": [
    "len(tupla_info[3])"
   ]
  },
  {
   "cell_type": "code",
   "execution_count": 127,
   "metadata": {},
   "outputs": [
    {
     "name": "stdout",
     "output_type": "stream",
     "text": [
      "205970687\n",
      "Cintia\n",
      "Carmona\n",
      "(3, 'Julio', 1984)\n"
     ]
    }
   ],
   "source": [
    "#mostrar los valores con un ciclo for\n",
    "for valor in tupla_info:\n",
    "    print(valor)"
   ]
  },
  {
   "cell_type": "code",
   "execution_count": 128,
   "metadata": {},
   "outputs": [
    {
     "data": {
      "text/plain": [
       "205970687"
      ]
     },
     "execution_count": 128,
     "metadata": {},
     "output_type": "execute_result"
    }
   ],
   "source": [
    "tupla_info[0]"
   ]
  },
  {
   "cell_type": "code",
   "execution_count": 88,
   "metadata": {},
   "outputs": [
    {
     "ename": "TypeError",
     "evalue": "'tuple' object does not support item assignment",
     "output_type": "error",
     "traceback": [
      "\u001b[1;31m---------------------------------------------------------------------------\u001b[0m",
      "\u001b[1;31mTypeError\u001b[0m                                 Traceback (most recent call last)",
      "\u001b[1;32m<ipython-input-88-cef5746780a7>\u001b[0m in \u001b[0;36m<module>\u001b[1;34m\u001b[0m\n\u001b[0;32m      1\u001b[0m \u001b[1;31m#Modificar un elemento de la lista\u001b[0m\u001b[1;33m\u001b[0m\u001b[1;33m\u001b[0m\u001b[1;33m\u001b[0m\u001b[0m\n\u001b[1;32m----> 2\u001b[1;33m \u001b[0mtupla_info\u001b[0m\u001b[1;33m[\u001b[0m\u001b[1;36m0\u001b[0m\u001b[1;33m]\u001b[0m\u001b[1;33m=\u001b[0m \u001b[1;36m303710643\u001b[0m\u001b[1;33m\u001b[0m\u001b[1;33m\u001b[0m\u001b[0m\n\u001b[0m\u001b[0;32m      3\u001b[0m \u001b[0mprint\u001b[0m\u001b[1;33m(\u001b[0m\u001b[0mtupla_info\u001b[0m\u001b[1;33m)\u001b[0m\u001b[1;33m\u001b[0m\u001b[1;33m\u001b[0m\u001b[0m\n",
      "\u001b[1;31mTypeError\u001b[0m: 'tuple' object does not support item assignment"
     ]
    }
   ],
   "source": [
    "#Modificar un elemento de la lista\n",
    "tupla_info[0]= 303710643\n",
    "print(tupla_info)"
   ]
  },
  {
   "cell_type": "code",
   "execution_count": 89,
   "metadata": {},
   "outputs": [
    {
     "ename": "AttributeError",
     "evalue": "'tuple' object has no attribute 'append'",
     "output_type": "error",
     "traceback": [
      "\u001b[1;31m---------------------------------------------------------------------------\u001b[0m",
      "\u001b[1;31mAttributeError\u001b[0m                            Traceback (most recent call last)",
      "\u001b[1;32m<ipython-input-89-271dbe30bd83>\u001b[0m in \u001b[0;36m<module>\u001b[1;34m\u001b[0m\n\u001b[0;32m      1\u001b[0m \u001b[1;31m#agregar elementos a una lista con append\u001b[0m\u001b[1;33m\u001b[0m\u001b[1;33m\u001b[0m\u001b[1;33m\u001b[0m\u001b[0m\n\u001b[1;32m----> 2\u001b[1;33m \u001b[0mtupla_info\u001b[0m\u001b[1;33m.\u001b[0m\u001b[0mappend\u001b[0m\u001b[1;33m(\u001b[0m\u001b[1;34m\"Materia\"\u001b[0m\u001b[1;33m)\u001b[0m\u001b[1;33m\u001b[0m\u001b[1;33m\u001b[0m\u001b[0m\n\u001b[0m\u001b[0;32m      3\u001b[0m \u001b[0mprint\u001b[0m\u001b[1;33m(\u001b[0m\u001b[0mtupla_info\u001b[0m\u001b[1;33m)\u001b[0m\u001b[1;33m\u001b[0m\u001b[1;33m\u001b[0m\u001b[0m\n",
      "\u001b[1;31mAttributeError\u001b[0m: 'tuple' object has no attribute 'append'"
     ]
    }
   ],
   "source": [
    "#agregar elementos a una lista con append\n",
    "tupla_info.append(\"Materia\")\n",
    "print(tupla_info)"
   ]
  },
  {
   "cell_type": "code",
   "execution_count": 115,
   "metadata": {},
   "outputs": [
    {
     "data": {
      "text/plain": [
       "(205970687, 'Cintia', 'Carmona', (3, 'Julio', 1984))"
      ]
     },
     "execution_count": 115,
     "metadata": {},
     "output_type": "execute_result"
    }
   ],
   "source": [
    "tupla_info"
   ]
  },
  {
   "cell_type": "markdown",
   "metadata": {},
   "source": [
    "**tupla_info .**"
   ]
  },
  {
   "cell_type": "code",
   "execution_count": 116,
   "metadata": {},
   "outputs": [
    {
     "data": {
      "text/plain": [
       "('Python', 5, 'Python', 5, 5)"
      ]
     },
     "execution_count": 116,
     "metadata": {},
     "output_type": "execute_result"
    }
   ],
   "source": [
    "valores = (\"Python\", 5, \"Python\", 5,5)\n",
    "valores"
   ]
  },
  {
   "cell_type": "code",
   "execution_count": 117,
   "metadata": {},
   "outputs": [
    {
     "data": {
      "text/plain": [
       "3"
      ]
     },
     "execution_count": 117,
     "metadata": {},
     "output_type": "execute_result"
    }
   ],
   "source": [
    "valores.count(5)"
   ]
  },
  {
   "cell_type": "code",
   "execution_count": 118,
   "metadata": {},
   "outputs": [
    {
     "data": {
      "text/plain": [
       "2"
      ]
     },
     "execution_count": 118,
     "metadata": {},
     "output_type": "execute_result"
    }
   ],
   "source": [
    "valores.count('Python')"
   ]
  },
  {
   "cell_type": "code",
   "execution_count": 119,
   "metadata": {},
   "outputs": [
    {
     "data": {
      "text/plain": [
       "1"
      ]
     },
     "execution_count": 119,
     "metadata": {},
     "output_type": "execute_result"
    }
   ],
   "source": [
    "valores.index(5)"
   ]
  },
  {
   "cell_type": "code",
   "execution_count": 120,
   "metadata": {},
   "outputs": [
    {
     "data": {
      "text/plain": [
       "0"
      ]
     },
     "execution_count": 120,
     "metadata": {},
     "output_type": "execute_result"
    }
   ],
   "source": [
    "valores.index('Python')"
   ]
  },
  {
   "cell_type": "markdown",
   "metadata": {},
   "source": [
    "**CONJUNTOS**\n",
    "\n",
    "Un conjunto, es una colección no ordenada y sin elementos repetidos. Los usos básicos de éstos incluyen verificación de pertenencia y eliminación de entradas duplicadas.  \n",
    "\n",
    "**EJEMPLO**"
   ]
  },
  {
   "cell_type": "code",
   "execution_count": 178,
   "metadata": {},
   "outputs": [
    {
     "data": {
      "text/plain": [
       "{1, 2, 3, 4, 5, 7, 11}"
      ]
     },
     "execution_count": 178,
     "metadata": {},
     "output_type": "execute_result"
    }
   ],
   "source": [
    "Conjunto1 = set([4, 3, 11, 7, 5, 2, 1, 4])\n",
    "Conjunto1"
   ]
  },
  {
   "cell_type": "code",
   "execution_count": 179,
   "metadata": {},
   "outputs": [
    {
     "data": {
      "text/plain": [
       "{1, 2, 3, 4, 5, 7, 11}"
      ]
     },
     "execution_count": 179,
     "metadata": {},
     "output_type": "execute_result"
    }
   ],
   "source": [
    "#Este método devuelve una copia superficial del tipo conjunto\n",
    "Conjunto2 =Conjunto1.copy()\n",
    "Conjunto2"
   ]
  },
  {
   "cell_type": "markdown",
   "metadata": {},
   "source": [
    "Conjunto1."
   ]
  },
  {
   "cell_type": "code",
   "execution_count": 204,
   "metadata": {},
   "outputs": [
    {
     "data": {
      "text/plain": [
       "{1, 2, 3, 4, 6, 7, 11, 22, 44}"
      ]
     },
     "execution_count": 204,
     "metadata": {},
     "output_type": "execute_result"
    }
   ],
   "source": [
    "#Este método agrega un elemento a un conjunto\n",
    "Conjunto1.add(22)\n",
    "Conjunto1.add(44)\n",
    "Conjunto1.add(6)\n",
    "Conjunto1.add(6)\n",
    "Conjunto1"
   ]
  },
  {
   "cell_type": "code",
   "execution_count": 176,
   "metadata": {},
   "outputs": [
    {
     "data": {
      "text/plain": [
       "False"
      ]
     },
     "execution_count": 176,
     "metadata": {},
     "output_type": "execute_result"
    }
   ],
   "source": [
    "Conjunto1 == Conjunto2"
   ]
  },
  {
   "cell_type": "code",
   "execution_count": 194,
   "metadata": {},
   "outputs": [
    {
     "data": {
      "text/plain": [
       "{1, 2, 3, 4, 5, 7, 11}"
      ]
     },
     "execution_count": 194,
     "metadata": {},
     "output_type": "execute_result"
    }
   ],
   "source": [
    "Conjunto2"
   ]
  },
  {
   "cell_type": "code",
   "execution_count": 173,
   "metadata": {},
   "outputs": [
    {
     "data": {
      "text/plain": [
       "{2, 4, 5, 8, 9, 11}"
      ]
     },
     "execution_count": 173,
     "metadata": {},
     "output_type": "execute_result"
    }
   ],
   "source": [
    "Conjunto3 = set([11, 5, 9, 2, 4, 8])\n",
    "Conjunto3"
   ]
  },
  {
   "cell_type": "code",
   "execution_count": 174,
   "metadata": {},
   "outputs": [
    {
     "data": {
      "text/plain": [
       "{1, 3, 7}"
      ]
     },
     "execution_count": 174,
     "metadata": {},
     "output_type": "execute_result"
    }
   ],
   "source": [
    "Conjunto2.difference(Conjunto3)"
   ]
  },
  {
   "cell_type": "code",
   "execution_count": 175,
   "metadata": {},
   "outputs": [
    {
     "data": {
      "text/plain": [
       "{8, 9}"
      ]
     },
     "execution_count": 175,
     "metadata": {},
     "output_type": "execute_result"
    }
   ],
   "source": [
    "Conjunto3.difference(Conjunto2)"
   ]
  },
  {
   "cell_type": "code",
   "execution_count": 186,
   "metadata": {},
   "outputs": [
    {
     "data": {
      "text/plain": [
       "{2, 4, 5, 11}"
      ]
     },
     "execution_count": 186,
     "metadata": {},
     "output_type": "execute_result"
    }
   ],
   "source": [
    "#Este método devuelve la intersección entre los conjuntos\n",
    "Conjunto2.intersection(Conjunto3)"
   ]
  },
  {
   "cell_type": "code",
   "execution_count": 216,
   "metadata": {},
   "outputs": [
    {
     "data": {
      "text/plain": [
       "{1, 2, 3, 4, 5, 7, 8, 9, 11}"
      ]
     },
     "execution_count": 216,
     "metadata": {},
     "output_type": "execute_result"
    }
   ],
   "source": [
    "#Este método devuelve la union de dos conjuntos\n",
    "Conjunto2.union(Conjunto3)"
   ]
  },
  {
   "cell_type": "code",
   "execution_count": 192,
   "metadata": {},
   "outputs": [
    {
     "data": {
      "text/plain": [
       "False"
      ]
     },
     "execution_count": 192,
     "metadata": {},
     "output_type": "execute_result"
    }
   ],
   "source": [
    "#Este método devuelve el valor True si no hay elementos comunes entre los conjuntos\n",
    "# En este caso Devuelve FALSE porque si tenemos elementos comunes\n",
    "Conjunto3.isdisjoint(Conjunto2)"
   ]
  },
  {
   "cell_type": "code",
   "execution_count": 195,
   "metadata": {},
   "outputs": [
    {
     "data": {
      "text/plain": [
       "{1, 2, 3, 4, 6, 7, 11, 22, 44}"
      ]
     },
     "execution_count": 195,
     "metadata": {},
     "output_type": "execute_result"
    }
   ],
   "source": [
    "Conjunto1"
   ]
  },
  {
   "cell_type": "code",
   "execution_count": 196,
   "metadata": {},
   "outputs": [
    {
     "data": {
      "text/plain": [
       "{1, 2, 3, 4, 6, 7, 11, 22, 44}"
      ]
     },
     "execution_count": 196,
     "metadata": {},
     "output_type": "execute_result"
    }
   ],
   "source": [
    "#Este método remueve un elemento desde un conjunto\n",
    "Conjunto1.discard('5')\n",
    "Conjunto1"
   ]
  },
  {
   "cell_type": "code",
   "execution_count": 205,
   "metadata": {},
   "outputs": [
    {
     "data": {
      "text/plain": [
       "{1, 2, 3, 4, 6, 7, 11, 22, 44}"
      ]
     },
     "execution_count": 205,
     "metadata": {},
     "output_type": "execute_result"
    }
   ],
   "source": [
    "Conjunto1.discard(5)\n",
    "Conjunto1"
   ]
  },
  {
   "cell_type": "code",
   "execution_count": 206,
   "metadata": {},
   "outputs": [
    {
     "data": {
      "text/plain": [
       "{2, 4, 7, 11}"
      ]
     },
     "execution_count": 206,
     "metadata": {},
     "output_type": "execute_result"
    }
   ],
   "source": [
    "Conjunto4 = set([11, 7, 2, 4])\n",
    "Conjunto4"
   ]
  },
  {
   "cell_type": "code",
   "execution_count": 207,
   "metadata": {},
   "outputs": [
    {
     "data": {
      "text/plain": [
       "True"
      ]
     },
     "execution_count": 207,
     "metadata": {},
     "output_type": "execute_result"
    }
   ],
   "source": [
    "#Este método devuelve el valor True si el conjunto mutable es un subconjunto del\n",
    "Conjunto4.issubset(Conjunto1)"
   ]
  },
  {
   "cell_type": "code",
   "execution_count": 211,
   "metadata": {
    "scrolled": true
   },
   "outputs": [
    {
     "ename": "TypeError",
     "evalue": "'set' object is not subscriptable",
     "output_type": "error",
     "traceback": [
      "\u001b[1;31m---------------------------------------------------------------------------\u001b[0m",
      "\u001b[1;31mTypeError\u001b[0m                                 Traceback (most recent call last)",
      "\u001b[1;32m<ipython-input-211-0083249e6f2a>\u001b[0m in \u001b[0;36m<module>\u001b[1;34m\u001b[0m\n\u001b[0;32m      1\u001b[0m \u001b[1;31m#No se puede acceder a una posición especifica\u001b[0m\u001b[1;33m\u001b[0m\u001b[1;33m\u001b[0m\u001b[1;33m\u001b[0m\u001b[0m\n\u001b[1;32m----> 2\u001b[1;33m \u001b[0mConjunto4\u001b[0m\u001b[1;33m[\u001b[0m\u001b[1;36m0\u001b[0m\u001b[1;33m]\u001b[0m\u001b[1;33m\u001b[0m\u001b[1;33m\u001b[0m\u001b[0m\n\u001b[0m",
      "\u001b[1;31mTypeError\u001b[0m: 'set' object is not subscriptable"
     ]
    }
   ],
   "source": [
    "#No se puede acceder a una posición especifica\n",
    "Conjunto4[0]"
   ]
  },
  {
   "cell_type": "code",
   "execution_count": 213,
   "metadata": {},
   "outputs": [
    {
     "data": {
      "text/plain": [
       "4"
      ]
     },
     "execution_count": 213,
     "metadata": {},
     "output_type": "execute_result"
    }
   ],
   "source": [
    "#se puede ver el tamano del conjunto\n",
    "len(Conjunto4)"
   ]
  },
  {
   "cell_type": "code",
   "execution_count": 214,
   "metadata": {},
   "outputs": [
    {
     "data": {
      "text/plain": [
       "{2, 4, 7}"
      ]
     },
     "execution_count": 214,
     "metadata": {},
     "output_type": "execute_result"
    }
   ],
   "source": [
    "#eliminar elementos de un conjunto\n",
    "Conjunto4.remove(11)\n",
    "Conjunto4"
   ]
  },
  {
   "cell_type": "code",
   "execution_count": 215,
   "metadata": {},
   "outputs": [
    {
     "data": {
      "text/plain": [
       "set()"
      ]
     },
     "execution_count": 215,
     "metadata": {},
     "output_type": "execute_result"
    }
   ],
   "source": [
    "# Este método remueve todos los elementos desde este conjunt\n",
    "Conjunto4.clear()\n",
    "Conjunto4"
   ]
  },
  {
   "cell_type": "markdown",
   "metadata": {},
   "source": [
    "**DICCIONARIOS**  \n",
    "\n",
    "Un diccionario es una colección de elementos indexados, que no estan ordenados y se pueden modificar, son escritos entre {}  y son [clave : valor  ]  \n",
    "Ejemplo: red: rojo  \n",
    "clave= red  \n",
    "valor = rojo  "
   ]
  },
  {
   "cell_type": "code",
   "execution_count": 250,
   "metadata": {},
   "outputs": [],
   "source": [
    "diccionario = {\n",
    "     \"numero\":234,\n",
    "     \"logico\":True,\n",
    "     \"string\":\"Cadena\",\n",
    "     \"lista\":[1,2,3,4]\n",
    " }"
   ]
  },
  {
   "cell_type": "code",
   "execution_count": 245,
   "metadata": {},
   "outputs": [
    {
     "data": {
      "text/plain": [
       "{'numero': 234, 'logico': True, 'string': 'Valor 1', 'lista': [1, 2, 3, 4]}"
      ]
     },
     "execution_count": 245,
     "metadata": {},
     "output_type": "execute_result"
    }
   ],
   "source": [
    "diccionario"
   ]
  },
  {
   "cell_type": "code",
   "execution_count": 246,
   "metadata": {},
   "outputs": [
    {
     "data": {
      "text/plain": [
       "dict"
      ]
     },
     "execution_count": 246,
     "metadata": {},
     "output_type": "execute_result"
    }
   ],
   "source": [
    "type(diccionario)"
   ]
  },
  {
   "cell_type": "code",
   "execution_count": 251,
   "metadata": {},
   "outputs": [
    {
     "data": {
      "text/plain": [
       "234"
      ]
     },
     "execution_count": 251,
     "metadata": {},
     "output_type": "execute_result"
    }
   ],
   "source": [
    "# Obteniendo valores del diccionario\n",
    "diccionario['numero']"
   ]
  },
  {
   "cell_type": "code",
   "execution_count": 260,
   "metadata": {},
   "outputs": [
    {
     "data": {
      "text/plain": [
       "[1, 2, 3, 4]"
      ]
     },
     "execution_count": 260,
     "metadata": {},
     "output_type": "execute_result"
    }
   ],
   "source": [
    "Lista = diccionario['lista']\n",
    "Lista"
   ]
  },
  {
   "cell_type": "code",
   "execution_count": 253,
   "metadata": {},
   "outputs": [
    {
     "data": {
      "text/plain": [
       "'Cadena'"
      ]
     },
     "execution_count": 253,
     "metadata": {},
     "output_type": "execute_result"
    }
   ],
   "source": [
    "#Este método devuelve el valor en base a una coincidencia de búsqueda en un diccionario mediante una clav\n",
    "diccionario.get('string')"
   ]
  },
  {
   "cell_type": "code",
   "execution_count": 258,
   "metadata": {},
   "outputs": [
    {
     "data": {
      "text/plain": [
       "dict_keys(['numero', 'logico', 'string', 'lista'])"
      ]
     },
     "execution_count": 258,
     "metadata": {},
     "output_type": "execute_result"
    }
   ],
   "source": [
    "#Este método devuelve una lista de las claves del diccionario:\n",
    "diccionario.keys()"
   ]
  },
  {
   "cell_type": "code",
   "execution_count": 259,
   "metadata": {},
   "outputs": [
    {
     "data": {
      "text/plain": [
       "dict_values([234, True, 'Cadena', [1, 2, 3, 4]])"
      ]
     },
     "execution_count": 259,
     "metadata": {},
     "output_type": "execute_result"
    }
   ],
   "source": [
    "##Este método devuelve una lista de las claves del diccionario:\n",
    "diccionario.values()"
   ]
  },
  {
   "cell_type": "code",
   "execution_count": 238,
   "metadata": {},
   "outputs": [
    {
     "data": {
      "text/plain": [
       "{'numero': 234,\n",
       " 'logico': True,\n",
       " 'string': 'Valor 1',\n",
       " 'lista': [1, 2, 3, 4],\n",
       " 'Flotante': 3.14}"
      ]
     },
     "execution_count": 238,
     "metadata": {},
     "output_type": "execute_result"
    }
   ],
   "source": [
    "#añadir elementos a un diccionario\n",
    "diccionario['Flotante'] = 3.14\n",
    "diccionario"
   ]
  },
  {
   "cell_type": "code",
   "execution_count": 239,
   "metadata": {},
   "outputs": [
    {
     "data": {
      "text/plain": [
       "{'logico': True, 'string': 'Valor 1', 'lista': [1, 2, 3, 4], 'Flotante': 3.14}"
      ]
     },
     "execution_count": 239,
     "metadata": {},
     "output_type": "execute_result"
    }
   ],
   "source": [
    "#borrar valores de un diccionario con la función pop\n",
    "diccionario.pop('numero')\n",
    "diccionario"
   ]
  },
  {
   "cell_type": "code",
   "execution_count": 240,
   "metadata": {},
   "outputs": [
    {
     "name": "stdout",
     "output_type": "stream",
     "text": [
      "logico\n",
      "string\n",
      "lista\n",
      "Flotante\n"
     ]
    }
   ],
   "source": [
    "#Recorres un diccionario con un bucle for viendo las claves\n",
    "for i in diccionario:\n",
    "    print(i)"
   ]
  },
  {
   "cell_type": "code",
   "execution_count": 241,
   "metadata": {},
   "outputs": [
    {
     "name": "stdout",
     "output_type": "stream",
     "text": [
      "logico True\n",
      "string Valor 1\n",
      "lista [1, 2, 3, 4]\n",
      "Flotante 3.14\n"
     ]
    }
   ],
   "source": [
    "#si queremos ver tanto las claves como los valores se deben usar dos bucles for\n",
    "for clave,valor in diccionario.items():\n",
    "    print(clave,valor)"
   ]
  },
  {
   "cell_type": "markdown",
   "metadata": {},
   "source": [
    "**REPASO GENERAL: LISTAS, TUPLAS, CONJUNTO Y DICCIONARIOS**\n",
    "\n",
    "**LISTAS:**\n",
    "\n",
    "Una lista es una colección de elementos que esta ordenada, SI se puede modificar\n",
    "se definen mediante [] y separados por ,\n",
    "Se utilizan para modelar datos compuestos pero cuya cantidad y valor varían a lo largo del tiempo. \n",
    "\n",
    "\n",
    "**TUPLAS:**\n",
    "\n",
    " Es una acción de elementos ordenada que NO se puede modificar\n",
    " se definen mediante () y separados por ,\n",
    "\n",
    "**CONJUNTO:** \n",
    "\n",
    "Un conjunto, es una colección no ordenada y sin elementos repetidos. \n",
    "Los usos básicos de éstos incluyen verificación de pertenencia y eliminación de entradas duplicadas.\n",
    "\n",
    "\n",
    "**DICCIONARIO:**\n",
    "\n",
    "Un diccionario es una colección de elementos indexados\n",
    "NO estan ordenados y se pueden modificar, son escritos entre {} \n",
    "Son [clave : valor ] "
   ]
  },
  {
   "cell_type": "markdown",
   "metadata": {},
   "source": [
    "**SENTENCIAS CONDICIONALES** "
   ]
  },
  {
   "cell_type": "markdown",
   "metadata": {},
   "source": [
    "**CONDICIÓN if-elif-else**   \n",
    "\n",
    "Sirve para verificar si una expresión es cierta o no  \n",
    "La sentencia condicional if se usa para tomar decisiones, este evaluá básicamente una operación lógica, es decir una expresión que de como resultado True o False, y ejecuta la pieza de código siguiente siempre y cuando el resultado sea verdadero"
   ]
  },
  {
   "cell_type": "code",
   "execution_count": 320,
   "metadata": {},
   "outputs": [
    {
     "name": "stdout",
     "output_type": "stream",
     "text": [
      "a es mayor que b\n"
     ]
    }
   ],
   "source": [
    "# EXPRESION ELSE IF = ELIF\n",
    "\n",
    "a = 8\n",
    "b = 4\n",
    "if (a>b):\n",
    "    print('a es mayor que b')\n",
    "elif (a == b):\n",
    "    print('a es igual a b')\n",
    "else:\n",
    "   print ('Ninguna condición se cumple')"
   ]
  },
  {
   "cell_type": "code",
   "execution_count": 319,
   "metadata": {},
   "outputs": [
    {
     "data": {
      "text/plain": [
       "5"
      ]
     },
     "execution_count": 319,
     "metadata": {},
     "output_type": "execute_result"
    }
   ],
   "source": [
    "# Una forma diferente de asignar variables\n",
    "dato1, dato2, dato3 = 10, 21, 5;\n",
    "dato1\n",
    "dato2\n",
    "dato3\n"
   ]
  },
  {
   "cell_type": "code",
   "execution_count": 283,
   "metadata": {},
   "outputs": [
    {
     "name": "stdout",
     "output_type": "stream",
     "text": [
      "'dato1' y 'dato2' no son iguales.\n"
     ]
    }
   ],
   "source": [
    "#Ejemplo de operador de comparación Igual:\n",
    "\n",
    "if (dato1 == dato2):\n",
    "    print (\"'dato1' y 'dato2' son iguales.\")\n",
    "else:\n",
    "    print (\"'dato1' y 'dato2' no son iguales.\")"
   ]
  },
  {
   "cell_type": "code",
   "execution_count": 292,
   "metadata": {},
   "outputs": [
    {
     "name": "stdout",
     "output_type": "stream",
     "text": [
      "'dato3=' [ 5 ] es el numero mas pequeño\n"
     ]
    }
   ],
   "source": [
    "#Ejemplo de operadores compuestos\n",
    "\n",
    "if ((dato1 < dato2) and (dato1 < dato3)):\n",
    "    print (\"'dato1' es el numero mas pequeño\")\n",
    "elif dato2 < dato3:\n",
    "    print (\"'dato3' es el numero mas pequeño\")    \n",
    "else:\n",
    "    print (\"'dato3=' [ {} ] es el numero mas pequeño\".format(dato3))\n",
    "    \n",
    "    "
   ]
  },
  {
   "cell_type": "code",
   "execution_count": 313,
   "metadata": {},
   "outputs": [
    {
     "name": "stdout",
     "output_type": "stream",
     "text": [
      "11\n",
      "<class 'str'>\n",
      "<class 'int'>\n",
      "x NO esta en la Lista\n"
     ]
    }
   ],
   "source": [
    "# Utilizando el NOT IN, conversiones de tipos, captura de teclado\n",
    "list = [1,2,3,4,5]\n",
    "entrada  = input()\n",
    "print (type(entrada))\n",
    "x = int(entrada)\n",
    "print (type(x))\n",
    "\n",
    "if x not in list:\n",
    "    print ('x NO esta en la Lista')\n",
    "else:\n",
    "     print ('x SI esta en la Lista')"
   ]
  },
  {
   "cell_type": "code",
   "execution_count": 314,
   "metadata": {},
   "outputs": [
    {
     "data": {
      "text/plain": [
       "False"
      ]
     },
     "execution_count": 314,
     "metadata": {},
     "output_type": "execute_result"
    }
   ],
   "source": [
    "# Expresion Logica\n",
    "Conjunto3.isdisjoint(Conjunto2)"
   ]
  },
  {
   "cell_type": "code",
   "execution_count": 315,
   "metadata": {},
   "outputs": [
    {
     "name": "stdout",
     "output_type": "stream",
     "text": [
      "Conjunto3 NO ES SubConjunto de Conjunto2\n"
     ]
    }
   ],
   "source": [
    "# Ejemplo Expresion Logica\n",
    "if (Conjunto3.isdisjoint(Conjunto2)):\n",
    "    print (\"Conjunto3 ES SubConjunto de Conjunto2\")\n",
    "else:\n",
    "    print (\"Conjunto3 NO ES SubConjunto de Conjunto2\")"
   ]
  },
  {
   "cell_type": "markdown",
   "metadata": {},
   "source": [
    "**PRACTICA 5**\n",
    "\n",
    "Dada la siguiente lista = [1,2,5,25,33,56,75,21,56,89,43,13,62,24]  \n",
    "Mostrar mediante el método print y el operador \"in\" si el número 21 esta en la lista, hacer el recorrido de la lista mediante un for.\n"
   ]
  },
  {
   "cell_type": "markdown",
   "metadata": {},
   "source": [
    "**BUCLE for**  \n",
    "\n",
    "Sirve para recorrer una lista de elementos"
   ]
  },
  {
   "cell_type": "code",
   "execution_count": 452,
   "metadata": {},
   "outputs": [
    {
     "name": "stdout",
     "output_type": "stream",
     "text": [
      "El animal es: gato, tamaño de palabra es: 4\n",
      "El animal es: perro, tamaño de palabra es: 5\n",
      "El animal es: serpiente, tamaño de palabra es: 9\n"
     ]
    }
   ],
   "source": [
    "# FOR con Listas \n",
    "animales = ['gato', 'perro', 'serpiente']\n",
    "for animal in animales:\n",
    "    print (\"El animal es: {0}, tamaño de palabra es: {1}\".format(\n",
    "        animal, len(animal)))"
   ]
  },
  {
   "cell_type": "code",
   "execution_count": 326,
   "metadata": {},
   "outputs": [
    {
     "name": "stdout",
     "output_type": "stream",
     "text": [
      "H\n",
      "o\n",
      "l\n",
      "a\n"
     ]
    }
   ],
   "source": [
    "cadena = 'Hola'\n",
    "for valor in cadena:\n",
    "    print(valor)"
   ]
  },
  {
   "cell_type": "code",
   "execution_count": 337,
   "metadata": {},
   "outputs": [
    {
     "name": "stdout",
     "output_type": "stream",
     "text": [
      "La oración analizada es: Mary entiende muy bien Python .\n",
      "\n",
      "Palabra: Mary, en la frase su posición es: 0\n",
      "Palabra: entiende, en la frase su posición es: 1\n",
      "Palabra: muy, en la frase su posición es: 2\n",
      "Palabra: bien, en la frase su posición es: 3\n",
      "Palabra: Python, en la frase su posición es: 4\n"
     ]
    }
   ],
   "source": [
    "oracion = 'Mary entiende muy bien Python'\n",
    "frases = oracion.split() # convierte a una lista cada palabra\n",
    "print (\"La oración analizada es:\", oracion, \".\\n\")\n",
    "for palabra in range(len(frases)):\n",
    "    print (\"Palabra: {0}, en la frase su posición es: {1}\".format(\n",
    "        frases[palabra], palabra))\n",
    "\t\t"
   ]
  },
  {
   "cell_type": "code",
   "execution_count": 453,
   "metadata": {},
   "outputs": [
    {
     "name": "stdout",
     "output_type": "stream",
     "text": [
      "nombres: Leonardo Jose\n",
      "apellidos: Caballero Garcia\n",
      "cedula: 26938401\n",
      "fecha_nacimiento: 03/12/1980\n",
      "lugar_nacimiento: Maracaibo, Zulia, Venezuela\n",
      "nacionalidad: Venezolana\n",
      "estado_civil: Soltero\n"
     ]
    }
   ],
   "source": [
    "# Bucle FOR con DICCIONARIOS\n",
    "datos_basicos = {\n",
    "    \"nombres\":\"Leonardo Jose\",\n",
    "    \"apellidos\":\"Caballero Garcia\",\n",
    "    \"cedula\":\"26938401\",\n",
    "    \"fecha_nacimiento\":\"03/12/1980\",\n",
    "    \"lugar_nacimiento\":\"Maracaibo, Zulia, Venezuela\",\n",
    "    \"nacionalidad\":\"Venezolana\",\n",
    "    \"estado_civil\":\"Soltero\"\n",
    "}\n",
    "clave = datos_basicos.keys()\n",
    "valor = datos_basicos.values()\n",
    "cantidad_datos = datos_basicos.items()\n",
    "\n",
    "for clave, valor in cantidad_datos:\n",
    "    print (clave + \": \" + valor)"
   ]
  },
  {
   "cell_type": "code",
   "execution_count": 358,
   "metadata": {},
   "outputs": [
    {
     "name": "stdout",
     "output_type": "stream",
     "text": [
      "Agua\n",
      "Casa\n",
      "Cate\n",
      "Corazon\n",
      "Pasa\n",
      "La Adivinanza es: \n",
      " ¿ Agua  Pasa por  mi  Casa , Cate de mi Corazon ???\n"
     ]
    }
   ],
   "source": [
    "frases = \"Agua\",\"Casa\",\"Cate\",\"Corazon\", \"Pasa\",\n",
    "for parametro in frases:\n",
    "    print (parametro)\n",
    "else:\n",
    "    print (\"\"\"La Adivinanza es: \n",
    " ¿ {uno}  {dos} por  mi  {tres} , {cuatro} de mi {cinco} ???\"\"\".format(\n",
    "       uno=frases[0], dos=frases[4],\n",
    "\t   tres=frases[1], cuatro=frases[2],\n",
    "\t   cinco =frases[3]))\n",
    "    "
   ]
  },
  {
   "cell_type": "code",
   "execution_count": 329,
   "metadata": {},
   "outputs": [
    {
     "data": {
      "text/plain": [
       "range(0, 8)"
      ]
     },
     "execution_count": 329,
     "metadata": {},
     "output_type": "execute_result"
    }
   ],
   "source": [
    "# Se define un rango de números, para hacerlo con un inicio y fin renge(3,7)\n",
    "range(8)"
   ]
  },
  {
   "cell_type": "code",
   "execution_count": 330,
   "metadata": {},
   "outputs": [
    {
     "name": "stdout",
     "output_type": "stream",
     "text": [
      "0\n",
      "1\n",
      "2\n",
      "3\n",
      "4\n",
      "5\n",
      "6\n",
      "7\n"
     ]
    }
   ],
   "source": [
    "for valor in range(8):\n",
    "    print (valor)"
   ]
  },
  {
   "cell_type": "code",
   "execution_count": 331,
   "metadata": {},
   "outputs": [
    {
     "name": "stdout",
     "output_type": "stream",
     "text": [
      "3\n",
      "4\n",
      "5\n",
      "6\n",
      "7\n"
     ]
    }
   ],
   "source": [
    "for valor in range(3,8):\n",
    "    print (valor)"
   ]
  },
  {
   "cell_type": "code",
   "execution_count": 332,
   "metadata": {},
   "outputs": [
    {
     "name": "stdout",
     "output_type": "stream",
     "text": [
      "5\n"
     ]
    }
   ],
   "source": [
    "#break es para parar un bucle, mata la ejecución del bucle\n",
    "for numero in range(10):\n",
    "    if (numero == 5):\n",
    "        break\n",
    "print(numero)"
   ]
  },
  {
   "cell_type": "code",
   "execution_count": 334,
   "metadata": {},
   "outputs": [
    {
     "name": "stdout",
     "output_type": "stream",
     "text": [
      "0 0\n",
      "0 1\n",
      "0 2\n",
      "1 0\n",
      "1 1\n",
      "1 2\n",
      "2 0\n",
      "2 1\n",
      "2 2\n",
      "3 0\n",
      "3 1\n",
      "3 2\n"
     ]
    }
   ],
   "source": [
    "#for anidados\n",
    "for numero1 in range(4):    # recorre del 0 al 3\n",
    "   for numero2 in range(3): # recorre del 0 al 2\n",
    "    print(numero1,numero2)"
   ]
  },
  {
   "cell_type": "markdown",
   "metadata": {},
   "source": [
    "**BUCLE while **  \n",
    "\n",
    "Ejecuta un conjunto de acciones mientras que se cumpla una condición"
   ]
  },
  {
   "cell_type": "code",
   "execution_count": 371,
   "metadata": {},
   "outputs": [
    {
     "name": "stdout",
     "output_type": "stream",
     "text": [
      "1\n",
      "2\n",
      "3\n",
      "4\n",
      "5\n",
      "6\n",
      "7\n",
      "8\n",
      "9\n"
     ]
    }
   ],
   "source": [
    "valor = 1\n",
    "fin = 10\n",
    "while (valor < fin):\n",
    "  print(valor)\n",
    "  valor +=1"
   ]
  },
  {
   "cell_type": "code",
   "execution_count": 370,
   "metadata": {},
   "outputs": [
    {
     "name": "stdout",
     "output_type": "stream",
     "text": [
      "1 3 5 7 9 11 13 15 17 19 21 23 25 27 29 31 33 35 37 39 41 43 45 47 49 51 53 55 57 59 61 63 65 67 69 71 73 75 77 79 81 83 85 87 89 91 93 95 97 99 "
     ]
    }
   ],
   "source": [
    "# Imprimir numeros impares Diferente forma de impresion\n",
    "i = 1\n",
    "while i <= 100:\n",
    "    print(i, end=\" \")\n",
    "    i += 2"
   ]
  },
  {
   "cell_type": "code",
   "execution_count": 372,
   "metadata": {},
   "outputs": [
    {
     "name": "stdout",
     "output_type": "stream",
     "text": [
      "1\n",
      "2\n",
      "3\n",
      "Programa terminado\n"
     ]
    }
   ],
   "source": [
    "i = 1\n",
    "while i <= 3:\n",
    "    print(i)\n",
    "    i += 1\n",
    "print(\"Programa terminado\")"
   ]
  },
  {
   "cell_type": "code",
   "execution_count": 373,
   "metadata": {},
   "outputs": [
    {
     "name": "stdout",
     "output_type": "stream",
     "text": [
      "1\n",
      "2\n",
      "3\n",
      "Se paro el bucle while por el break, no llego al final que era 10\n"
     ]
    }
   ],
   "source": [
    "valor = 1\n",
    "fin = 10\n",
    "while (valor < fin):\n",
    "  print(valor)\n",
    "  valor +=1\n",
    "  if (valor == 4):\n",
    "    print('Se paro el bucle while por el break, no llego al final que era 10')    \n",
    "    break\n"
   ]
  },
  {
   "cell_type": "markdown",
   "metadata": {},
   "source": [
    "**PRACTICA 6**\n",
    "\n",
    "Crear un diccionario con los siguientes pares de valores:    \n",
    "manzana, apple  \n",
    "naranja, orange  \n",
    "platano, banana  \n",
    "limon, lemon  \n",
    "\n",
    "Muestra la traducción para la palabra \"naranja\"  \n",
    "Añade un elemnto nuevo que sea \"piña\" \"pineapple\"  \n",
    "Haz un bucle para mostrar todos los elementos del diccionario  "
   ]
  },
  {
   "cell_type": "code",
   "execution_count": 172,
   "metadata": {},
   "outputs": [
    {
     "name": "stdout",
     "output_type": "stream",
     "text": [
      "{'manzana': 'apple', 'naranja': 'orange', 'platano': 'banana', 'limon': 'lemon'}\n",
      "orange\n",
      "manzana apple\n",
      "naranja orange\n",
      "platano banana\n",
      "limon lemon\n"
     ]
    }
   ],
   "source": [
    "diccionario_frutas = {'manzana':'apple','naranja':'orange','platano':'banana','limon':'lemon'}\n",
    "print(diccionario_frutas)\n",
    "valor = diccionario_frutas['naranja']\n",
    "print(valor)\n",
    "for clave,valor in diccionario_frutas.items():\n",
    "    print(clave,valor)"
   ]
  },
  {
   "cell_type": "markdown",
   "metadata": {},
   "source": [
    "**PRACTICA 7**  \n",
    "\n",
    "Crear una variable nota que tenga el valor de 4.2\n",
    "Crear una variable trabajo_realizado que tenga un valor de \"si\"\n",
    "Calcular el valor de la variable \"nota_final\" teniendo en cuenta que, si la nota_final es mayor o igual a 4, y el valor de las variables \"trabajo_realizado\" es igual a \"si\", entonces \"nota_final\" sera igual a \"aprobado\", en caso contrario será igual a \"suspendido\"  "
   ]
  },
  {
   "cell_type": "code",
   "execution_count": 174,
   "metadata": {},
   "outputs": [
    {
     "name": "stdout",
     "output_type": "stream",
     "text": [
      "Usted fue:Aprobado\n"
     ]
    }
   ],
   "source": [
    "nota = 4.2\n",
    "trabajo_realizado = 'si'\n",
    "if (nota >= 4) and (trabajo_realizado == 'si'):\n",
    "    nota_final = \"Aprobado\"\n",
    "else:\n",
    "    nota_final = \"Suspendido\"\n",
    "print ('Usted fue:' + nota_final)    "
   ]
  },
  {
   "cell_type": "markdown",
   "metadata": {},
   "source": [
    "**FIN MODULO 1 PRINCIPIANTES** "
   ]
  },
  {
   "cell_type": "markdown",
   "metadata": {},
   "source": [
    "**FUNCIONES**\n",
    "\n",
    "Una función es un bloque de código con un nombre asociado,   \n",
    "que recibe cero o más argumentos como entrada,   \n",
    "sigue una secuencia de sentencias, la cuales ejecuta una   operación deseada  \n",
    "y devuelve un valor y/o realiza una tarea,   \n",
    "este bloque puede ser llamados cuando se necesite.  "
   ]
  },
  {
   "cell_type": "code",
   "execution_count": null,
   "metadata": {},
   "outputs": [],
   "source": [
    "#La sintaxis para una definición de función en Python es:\n",
    "def NOMBRE(LISTA_DE_PARAMETROS):\n",
    "    \"\"\"DOCSTRING_DE_FUNCION\"\"\"\n",
    "    SENTENCIAS\n",
    "    RETURN [EXPRESION]"
   ]
  },
  {
   "cell_type": "markdown",
   "metadata": {},
   "source": [
    "A continuación se detallan el significado de pseudo código fuente anterior:\n",
    "\n",
    "NOMBRE, es el nombre de la función.  \n",
    "LISTA_DE_PARAMETROS, es la lista de parámetros que puede recibir una función.  \n",
    "DOCSTRING_DE_FUNCION, es la cadena de caracteres usada para documentar la función.  \n",
    "SENTENCIAS, es el bloque de sentencias en código fuente Python que realizar cierta operación dada.  \n",
    "RETURN, es la sentencia return en código Python.  \n",
    "EXPRESION, es la expresión o variable que devuelve la sentencia return.  "
   ]
  },
  {
   "cell_type": "code",
   "execution_count": 388,
   "metadata": {},
   "outputs": [],
   "source": [
    "def hola(arg):\n",
    "     \"\"\"El docstring de la función\"\"\"\n",
    "     print (\"Hola\", arg, \"!\")"
   ]
  },
  {
   "cell_type": "code",
   "execution_count": 432,
   "metadata": {},
   "outputs": [
    {
     "name": "stdout",
     "output_type": "stream",
     "text": [
      "Hola Clase !\n"
     ]
    }
   ],
   "source": [
    "hola(\"Clase\")"
   ]
  },
  {
   "cell_type": "code",
   "execution_count": 434,
   "metadata": {},
   "outputs": [
    {
     "name": "stdout",
     "output_type": "stream",
     "text": [
      "40\n",
      "\n",
      "\n"
     ]
    }
   ],
   "source": [
    "#Ejemplo funcion con 2 parametros de entrada\n",
    "def suma(numero1,numero2):\n",
    "    '''función la cual suma dos números'''\n",
    "    print (numero1 + numero2)\n",
    "    print (\"\\n\")\n",
    "\n",
    "suma(30, 10)"
   ]
  },
  {
   "cell_type": "code",
   "execution_count": 435,
   "metadata": {},
   "outputs": [
    {
     "data": {
      "text/plain": [
       "20"
      ]
     },
     "execution_count": 435,
     "metadata": {},
     "output_type": "execute_result"
    }
   ],
   "source": [
    "# Sentencia Return e invocacion de parametros\n",
    "# Las funciones pueden comunicarse con el exterior de las mismas, al proceso principal del programa usando la sentencia return\n",
    "\n",
    "def resta(a, b):\n",
    "     return a - b\n",
    "\n",
    "resta(30, 10)\t"
   ]
  },
  {
   "cell_type": "code",
   "execution_count": 436,
   "metadata": {},
   "outputs": [
    {
     "data": {
      "text/plain": [
       "-20"
      ]
     },
     "execution_count": 436,
     "metadata": {},
     "output_type": "execute_result"
    }
   ],
   "source": [
    "# Por nombre de parametros, sin importar el orden\n",
    "resta(b=30, a=10)"
   ]
  },
  {
   "cell_type": "code",
   "execution_count": 437,
   "metadata": {},
   "outputs": [
    {
     "ename": "TypeError",
     "evalue": "resta() missing 2 required positional arguments: 'a' and 'b'",
     "output_type": "error",
     "traceback": [
      "\u001b[1;31m---------------------------------------------------------------------------\u001b[0m",
      "\u001b[1;31mTypeError\u001b[0m                                 Traceback (most recent call last)",
      "\u001b[1;32m<ipython-input-437-1066d232b8ff>\u001b[0m in \u001b[0;36m<module>\u001b[1;34m\u001b[0m\n\u001b[0;32m      1\u001b[0m \u001b[1;31m# Llamada sin parametros provoca ERROR\u001b[0m\u001b[1;33m\u001b[0m\u001b[1;33m\u001b[0m\u001b[1;33m\u001b[0m\u001b[0m\n\u001b[1;32m----> 2\u001b[1;33m \u001b[0mresta\u001b[0m\u001b[1;33m(\u001b[0m\u001b[1;33m)\u001b[0m\u001b[1;33m\u001b[0m\u001b[1;33m\u001b[0m\u001b[0m\n\u001b[0m",
      "\u001b[1;31mTypeError\u001b[0m: resta() missing 2 required positional arguments: 'a' and 'b'"
     ]
    }
   ],
   "source": [
    "# Llamada sin parametros provoca ERROR\n",
    "resta()"
   ]
  },
  {
   "cell_type": "code",
   "execution_count": 438,
   "metadata": {},
   "outputs": [],
   "source": [
    "# Manejando los nulls en parametros\n",
    "def resta(a=None, b=None):\n",
    "     if a == None or b == None:\n",
    "         print (\"Error, debes enviar dos números a la función\")\n",
    "         return\n",
    "     return a - b"
   ]
  },
  {
   "cell_type": "code",
   "execution_count": 439,
   "metadata": {},
   "outputs": [
    {
     "name": "stdout",
     "output_type": "stream",
     "text": [
      "Error, debes enviar dos números a la función\n"
     ]
    }
   ],
   "source": [
    "resta()"
   ]
  },
  {
   "cell_type": "code",
   "execution_count": 440,
   "metadata": {},
   "outputs": [
    {
     "data": {
      "text/plain": [
       "('Clase Python', 20, [1, 2, 3])"
      ]
     },
     "execution_count": 440,
     "metadata": {},
     "output_type": "execute_result"
    }
   ],
   "source": [
    "# Retorno Multiple\n",
    "# Devuelve valores múltiples separados por comas:\n",
    "# Caracter: Clase Python   ,  Numerico: 20  ,  Lista: [1,2,3]\n",
    "def prueba():\n",
    "     return \"Clase Python\", 20, [1,2,3]\t\n",
    "\t \n",
    "prueba()"
   ]
  },
  {
   "cell_type": "code",
   "execution_count": 444,
   "metadata": {},
   "outputs": [],
   "source": [
    "#Ejemplos de Funciones\t\n",
    "def iva():\n",
    "    '''función básica para el calculo del IVA'''\n",
    "    iva = 12\n",
    "    monto = input('¿Cual es el monto a calcular?: ')\n",
    "    costo = int(monto)\n",
    "    calculo = costo * iva / 100\n",
    "    print (\"El calculo de IVA es: \" + str(calculo) + \"\\n\")"
   ]
  },
  {
   "cell_type": "code",
   "execution_count": 445,
   "metadata": {},
   "outputs": [
    {
     "name": "stdout",
     "output_type": "stream",
     "text": [
      "¿Cual es el monto a calcular?: 12000\n",
      "El calculo de IVA es: 1440.0\n",
      "\n"
     ]
    }
   ],
   "source": [
    "iva()"
   ]
  },
  {
   "cell_type": "code",
   "execution_count": 450,
   "metadata": {},
   "outputs": [],
   "source": [
    "#TABULACION, paso importante en la definicion de Funciones\n",
    "#Ejemplos de Funciones con bucles y condicionales\n",
    "\t\n",
    "def muchos_pcn():\n",
    "    a = input(\"Cuantos numeros quiere procesar: \")\n",
    "    i =int(a)\n",
    "    for j in range(0,i):\n",
    "        b = input(\"Ingrese un numero: \")\n",
    "        x = int(b)\n",
    "        if x > 0:\n",
    "            print (\"Numero positivo\")\n",
    "        elif x == 0:\n",
    "            print (\"Igual a 0\")\n",
    "        else:\n",
    "            print (\"Numero negativo\")"
   ]
  },
  {
   "cell_type": "code",
   "execution_count": 447,
   "metadata": {},
   "outputs": [
    {
     "name": "stdout",
     "output_type": "stream",
     "text": [
      "Cuantos numeros quiere procesar: 3\n",
      "Ingrese un numero: 1\n",
      "Numero positivo\n",
      "Ingrese un numero: 2\n",
      "Numero positivo\n",
      "Ingrese un numero: 2\n",
      "Numero positivo\n"
     ]
    }
   ],
   "source": [
    "muchos_pcn()"
   ]
  },
  {
   "cell_type": "code",
   "execution_count": 455,
   "metadata": {},
   "outputs": [],
   "source": [
    "def cuenta_regresiva(numero):\n",
    "     numero -= 1\n",
    "     if numero > 0:\n",
    "         print (numero)\n",
    "         cuenta_regresiva(numero)\n",
    "     else:\n",
    "         print (\"Boooooooom!\")\n",
    "     print (\"Fin de la función\", numero)"
   ]
  },
  {
   "cell_type": "code",
   "execution_count": 456,
   "metadata": {},
   "outputs": [
    {
     "name": "stdout",
     "output_type": "stream",
     "text": [
      "9\n",
      "8\n",
      "7\n",
      "6\n",
      "5\n",
      "4\n",
      "3\n",
      "2\n",
      "1\n",
      "Boooooooom!\n",
      "Fin de la función 0\n",
      "Fin de la función 1\n",
      "Fin de la función 2\n",
      "Fin de la función 3\n",
      "Fin de la función 4\n",
      "Fin de la función 5\n",
      "Fin de la función 6\n",
      "Fin de la función 7\n",
      "Fin de la función 8\n",
      "Fin de la función 9\n"
     ]
    }
   ],
   "source": [
    "cuenta_regresiva(10)"
   ]
  },
  {
   "cell_type": "code",
   "execution_count": 457,
   "metadata": {},
   "outputs": [],
   "source": [
    " def factorial(numero):\n",
    "     print (\"Valor inicial ->\",numero)\n",
    "     if numero > 1:\n",
    "         numero = numero * factorial(numero -1)\n",
    "     print (\"valor final ->\",numero)\n",
    "     return numero"
   ]
  },
  {
   "cell_type": "code",
   "execution_count": 458,
   "metadata": {},
   "outputs": [
    {
     "name": "stdout",
     "output_type": "stream",
     "text": [
      "Valor inicial -> 12\n",
      "Valor inicial -> 11\n",
      "Valor inicial -> 10\n",
      "Valor inicial -> 9\n",
      "Valor inicial -> 8\n",
      "Valor inicial -> 7\n",
      "Valor inicial -> 6\n",
      "Valor inicial -> 5\n",
      "Valor inicial -> 4\n",
      "Valor inicial -> 3\n",
      "Valor inicial -> 2\n",
      "Valor inicial -> 1\n",
      "valor final -> 1\n",
      "valor final -> 2\n",
      "valor final -> 6\n",
      "valor final -> 24\n",
      "valor final -> 120\n",
      "valor final -> 720\n",
      "valor final -> 5040\n",
      "valor final -> 40320\n",
      "valor final -> 362880\n",
      "valor final -> 3628800\n",
      "valor final -> 39916800\n",
      "valor final -> 479001600\n"
     ]
    },
    {
     "data": {
      "text/plain": [
       "479001600"
      ]
     },
     "execution_count": 458,
     "metadata": {},
     "output_type": "execute_result"
    }
   ],
   "source": [
    "\tfactorial(12)"
   ]
  },
  {
   "cell_type": "code",
   "execution_count": 468,
   "metadata": {},
   "outputs": [
    {
     "data": {
      "text/plain": [
       "['.anaconda',\n",
       " '.astropy',\n",
       " '.conda',\n",
       " '.condarc',\n",
       " '.config',\n",
       " '.glue',\n",
       " '.ipynb_checkpoints',\n",
       " '.ipython',\n",
       " '.jupyter',\n",
       " '.matplotlib',\n",
       " '.plotly',\n",
       " '.pylint.d',\n",
       " '.RapidMiner',\n",
       " '.spyder-py3',\n",
       " '.VirtualBox',\n",
       " '.vscode',\n",
       " '3D Objects',\n",
       " 'Anaconda3',\n",
       " 'AppData',\n",
       " 'Carpeta_Curso',\n",
       " 'CmapToolsLogs',\n",
       " 'Configuración local',\n",
       " 'Contacts',\n",
       " 'Cookies',\n",
       " 'Datos de programa',\n",
       " 'Desktop',\n",
       " 'Documents',\n",
       " 'Downloads',\n",
       " 'EjerciciosCintia',\n",
       " 'Entorno de red',\n",
       " 'Favorites',\n",
       " 'Google Drive',\n",
       " 'Impresoras',\n",
       " 'InstallAnywhere',\n",
       " 'IntelGraphicsProfiles',\n",
       " 'Links',\n",
       " 'Menú Inicio',\n",
       " 'Microsoft',\n",
       " 'MicrosoftEdgeBackups',\n",
       " 'Mis documentos',\n",
       " 'Modulo 1 principiantes.ipynb',\n",
       " 'Modulo 1 principiantes.py',\n",
       " 'Music',\n",
       " 'NTUSER.DAT',\n",
       " 'ntuser.dat.LOG1',\n",
       " 'ntuser.dat.LOG2',\n",
       " 'NTUSER.DAT{f315dd05-d82b-11e9-b953-a9c4845d605b}.TM.blf',\n",
       " 'NTUSER.DAT{f315dd05-d82b-11e9-b953-a9c4845d605b}.TMContainer00000000000000000001.regtrans-ms',\n",
       " 'NTUSER.DAT{f315dd05-d82b-11e9-b953-a9c4845d605b}.TMContainer00000000000000000002.regtrans-ms',\n",
       " 'ntuser.ini',\n",
       " 'OneDrive',\n",
       " 'Pictures',\n",
       " 'Plantillas',\n",
       " 'PracticaSemana3',\n",
       " 'ProyectosEdu',\n",
       " 'Reciente',\n",
       " 'SalidaTableauCintia.hyper',\n",
       " 'Saved Games',\n",
       " 'Searches',\n",
       " 'SendTo',\n",
       " 'Videos',\n",
       " 'VirtualBox VMs']"
      ]
     },
     "execution_count": 468,
     "metadata": {},
     "output_type": "execute_result"
    }
   ],
   "source": [
    "import os\n",
    "os.listdir(\"./\")"
   ]
  }
 ],
 "metadata": {
  "kernelspec": {
   "display_name": "Python 3",
   "language": "python",
   "name": "python3"
  },
  "language_info": {
   "codemirror_mode": {
    "name": "ipython",
    "version": 3
   },
   "file_extension": ".py",
   "mimetype": "text/x-python",
   "name": "python",
   "nbconvert_exporter": "python",
   "pygments_lexer": "ipython3",
   "version": "3.7.3"
  }
 },
 "nbformat": 4,
 "nbformat_minor": 2
}
